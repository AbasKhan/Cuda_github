{
 "cells": [
  {
   "cell_type": "code",
   "execution_count": 10,
   "metadata": {
    "collapsed": false
   },
   "outputs": [
    {
     "name": "stdout",
     "output_type": "stream",
     "text": [
      "Current folder is /home/abbas/tensorflow/Custom_Convs\n"
     ]
    }
   ],
   "source": [
    "import numpy as np\n",
    "import os\n",
    "from scipy.misc import imread, imresize\n",
    "import matplotlib.pyplot as plt\n",
    "import tensorflow as tf\n",
    "import scipy.misc \n",
    "import scipy.io\n",
    "\n",
    "%matplotlib inline  \n",
    "#returns current working directory of a process\n",
    "cwd = os.getcwd()\n",
    "print (\"Current folder is %s\" % (cwd) )"
   ]
  },
  {
   "cell_type": "code",
   "execution_count": 11,
   "metadata": {
    "collapsed": false
   },
   "outputs": [],
   "source": [
    "#Load the data and initialize the varibales\n",
    "\n",
    "loadpath = cwd + \"/data/data4vgg.npz\"\n",
    "l = np.load(loadpath)\n",
    "\n",
    "# See what's in here\n",
    "l.files\n",
    "\n",
    "# load the data\n",
    "trainimg = l['trainimg']\n",
    "trainlabel = l['trainlabel']\n",
    "testimg = l['testimg']\n",
    "testlabel = l['testlabel']\n",
    "ntrain = trainimg.shape[0]\n",
    "nclass = trainlabel.shape[1]\n",
    "dim    = trainimg.shape[1]\n",
    "ntest  = testimg.shape[0]\n",
    "\n",
    "training_tensor=np.reshape(trainimg,(ntrain,112,112,3))\n",
    "testing_tensor=np.reshape(testimg,(ntest,112,112,3))"
   ]
  },
  {
   "cell_type": "code",
   "execution_count": 12,
   "metadata": {
    "collapsed": false
   },
   "outputs": [
    {
     "name": "stdout",
     "output_type": "stream",
     "text": [
      "shape of trainimg_tensor is (69, 112, 112, 3)\n",
      "shape of trainimg_tensor is (18, 112, 112, 3)\n"
     ]
    }
   ],
   "source": [
    "#Reshape all the images to (112,112,3)\n",
    "for i in range(ntrain):\n",
    "    currimg = trainimg[i, :]\n",
    "    currimg = np.reshape(currimg, [112, 112, 3])\n",
    "    training_tensor[i, :, :, :] = currimg \n",
    "print (\"shape of trainimg_tensor is %s\" % (training_tensor.shape,))\n",
    "    \n",
    "for i in range(ntest):\n",
    "    currimg = testimg[i, :]\n",
    "    currimg = np.reshape(currimg, [112, 112, 3])\n",
    "    testing_tensor[i, :, :, :] = currimg \n",
    "print (\"shape of trainimg_tensor is %s\" % (testing_tensor.shape,))"
   ]
  },
  {
   "cell_type": "code",
   "execution_count": 13,
   "metadata": {
    "collapsed": true
   },
   "outputs": [],
   "source": [
    "#Load pre-trained VGG model\n",
    "def net(data_path, input_image):\n",
    "    layers = (\n",
    "        'conv1_1', 'relu1_1', 'conv1_2', 'relu1_2', 'pool1',\n",
    "\n",
    "        'conv2_1', 'relu2_1', 'conv2_2', 'relu2_2', 'pool2',\n",
    "\n",
    "        'conv3_1', 'relu3_1', 'conv3_2', 'relu3_2', 'conv3_3',\n",
    "        'relu3_3', 'conv3_4', 'relu3_4', 'pool3',\n",
    "\n",
    "        'conv4_1', 'relu4_1', 'conv4_2', 'relu4_2', 'conv4_3',\n",
    "        'relu4_3', 'conv4_4', 'relu4_4', 'pool4',\n",
    "\n",
    "        'conv5_1', 'relu5_1', 'conv5_2', 'relu5_2', 'conv5_3',\n",
    "        'relu5_3', 'conv5_4', 'relu5_4'\n",
    "    )\n",
    "\n",
    "    data = scipy.io.loadmat(\"/home/abbas/tensorflow/Custom_Convs/data/imagenet-vgg-verydeep-19.mat\")\n",
    "    mean = data['normalization'][0][0][0]\n",
    "    mean_pixel = np.mean(mean, axis=(0, 1))\n",
    "    weights = data['layers'][0]\n",
    "\n",
    "    net = {}\n",
    "    current = input_image\n",
    "    for i, name in enumerate(layers):\n",
    "        kind = name[:4]\n",
    "        if kind == 'conv':\n",
    "            kernels, bias = weights[i][0][0][0][0]\n",
    "            # matconvnet: weights are [width, height, in_channels, out_channels]\n",
    "            # tensorflow: weights are [height, width, in_channels, out_channels]\n",
    "            kernels = np.transpose(kernels, (1, 0, 2, 3))\n",
    "            bias = bias.reshape(-1)\n",
    "            current = _conv_layer(current, kernels, bias)\n",
    "        elif kind == 'relu':\n",
    "            current = tf.nn.relu(current)\n",
    "        elif kind == 'pool':\n",
    "            current = _pool_layer(current)\n",
    "        net[name] = current\n",
    "\n",
    "    assert len(net) == len(layers)\n",
    "    return net, mean_pixel\n",
    "\n",
    "def _conv_layer(input, weights, bias):\n",
    "    conv = tf.nn.conv2d(input, tf.constant(weights), strides=(1, 1, 1, 1),\n",
    "            padding='SAME')\n",
    "    return tf.nn.bias_add(conv, bias)\n",
    "def _pool_layer(input):\n",
    "    return tf.nn.max_pool(input, ksize=(1, 2, 2, 1), strides=(1, 2, 2, 1),\n",
    "            padding='SAME')\n",
    "def preprocess(image, mean_pixel):\n",
    "    return image - mean_pixel\n",
    "def unprocess(image, mean_pixel):\n",
    "    return image + mean_pixel"
   ]
  },
  {
   "cell_type": "code",
   "execution_count": 14,
   "metadata": {
    "collapsed": false
   },
   "outputs": [
    {
     "name": "stdout",
     "output_type": "stream",
     "text": [
      "(69, 7, 7, 512)\n"
     ]
    }
   ],
   "source": [
    "VGG_PATH = cwd + \"/data/imagenet-vgg-verydeep-19.mat\"\n",
    "with tf.Graph().as_default(), tf.Session() as sess:\n",
    "    image = tf.placeholder('float',shape=(None,112,112,3))\n",
    "    net, mean_pixel = net(VGG_PATH, image)\n",
    "    train_features=net['relu5_4'].eval(feed_dict={image:training_tensor })\n",
    "    print (train_features.shape)\n",
    "    test_features=net['relu5_4'].eval(feed_dict={image:testing_tensor})"
   ]
  },
  {
   "cell_type": "code",
   "execution_count": 15,
   "metadata": {
    "collapsed": true
   },
   "outputs": [],
   "source": [
    "#Vectorize the tensors\n",
    "training_vec = np.ndarray((ntrain, 7*7*512))\n",
    "testing_vec = np.ndarray((ntest, 7*7*512))\n",
    "# training_vec=np.reshape(train_features, (ntrain, -1))\n",
    "# testing_vec=np.reshape(test_features, (ntest, -1))\n",
    "# Vectorize\n",
    "for i in range(ntrain):\n",
    "    curr_feat = train_features[i, :, :, :]\n",
    "    curr_feat_vec = np.reshape(curr_feat, (1, -1))\n",
    "    training_vec[i, :] = curr_feat_vec\n",
    "    \n",
    "for i in range(ntest):\n",
    "    curr_feat = test_features[i, :, :, :]\n",
    "    curr_feat_vec = np.reshape(curr_feat, (1, -1))\n",
    "    testing_vec[i, :] = curr_feat_vec"
   ]
  },
  {
   "cell_type": "code",
   "execution_count": 16,
   "metadata": {
    "collapsed": false
   },
   "outputs": [],
   "source": [
    "# Parameters\n",
    "learning_rate   = 0.001\n",
    "training_epochs = 100\n",
    "batch_size      = 100\n",
    "display_step    = 10\n",
    "\n",
    "# Network Defination\n",
    "n_output = nclass\n",
    "weights  = {\n",
    "    'wd1': tf.Variable(tf.random_normal([7*7*512, 1024], stddev=0.1)),\n",
    "    'wd2': tf.Variable(tf.random_normal([1024, 1024], stddev=0.1)),\n",
    "    'wd3': tf.Variable(tf.random_normal([1024, 512], stddev=0.1)),\n",
    "    'out': tf.Variable(tf.random_normal([512, n_output], stddev=0.1))\n",
    "}\n",
    "biases   = {\n",
    "    'bd1': tf.Variable(tf.random_normal([1024], stddev=0.1)),\n",
    "    'bd2': tf.Variable(tf.random_normal([1024], stddev=0.1)),\n",
    "    'bd3': tf.Variable(tf.random_normal([512], stddev=0.1)),\n",
    "    'out': tf.Variable(tf.random_normal([n_output], stddev=0.1))\n",
    "}\n",
    "\n",
    "# Create model\n",
    "def conv_net(x, weights, biases, dropout):\n",
    "    # Reshape  to fit fully connected layer input\n",
    "    fc1 = tf.reshape(x, [-1, weights['wd1'].get_shape().as_list()[0]])\n",
    "    fc1 = tf.add(tf.matmul(fc1, weights['wd1']), biases['bd1'])\n",
    "    fc1 = tf.nn.relu(fc1)\n",
    "  \n",
    "         # Apply Dropout\n",
    "    fc1= tf.nn.dropout(fc1, dropout)\n",
    "    fc2 = tf.add(tf.matmul(fc1, weights['wd2']), biases['bd2'])\n",
    "    fc2 = tf.nn.elu(fc2)\n",
    "        # Apply Dropout\n",
    "#     fc2= tf.nn.dropout(fc2, dropout)\n",
    "    \n",
    "    fc3 = tf.add(tf.matmul(fc2, weights['wd3']), biases['bd3'])\n",
    "    fc3 = tf.nn.elu(fc3)\n",
    "    fc3= tf.nn.dropout(fc3, dropout)\n",
    "    # Output, class prediction\n",
    "    out = tf.add(tf.matmul(fc3, weights['out']), biases['out'])\n",
    "    return out"
   ]
  },
  {
   "cell_type": "code",
   "execution_count": 17,
   "metadata": {
    "collapsed": false
   },
   "outputs": [],
   "source": [
    "keep_prob = tf.placeholder(tf.float32)\n",
    "# tf Graph input\n",
    "x = tf.placeholder(tf.float32, [None, 7*7*512])\n",
    "y = tf.placeholder(tf.float32, [None, n_output])\n",
    "\n",
    "#Construct the model\n",
    "pred = conv_net(x, weights, biases, keep_prob)\n",
    "\n",
    "# Define loss and optimizer\n",
    "cost = tf.reduce_mean(tf.nn.softmax_cross_entropy_with_logits(pred, y))\n",
    "optimizer = tf.train.AdamOptimizer(learning_rate=learning_rate,beta1=0.9,beta2=0.999,epsilon=0.1,use_locking=False).minimize(cost)\n",
    "\n",
    "# Evaluate model\n",
    "correct_pred = tf.equal(tf.argmax(pred, 1), tf.argmax(y, 1))\n",
    "accuracy = tf.reduce_mean(tf.cast(correct_pred, tf.float32))\n",
    "\n",
    "# Initializing the variables\n",
    "init = tf.initialize_all_variables()"
   ]
  },
  {
   "cell_type": "code",
   "execution_count": 18,
   "metadata": {
    "collapsed": false
   },
   "outputs": [
    {
     "name": "stdout",
     "output_type": "stream",
     "text": [
      "Epoch: 000/100 cost: 28.187860489\n",
      " Training accuracy: 0.600\n",
      " Test accuracy: 0.667\n",
      "Epoch: 010/100 cost: 24.380531311\n",
      " Training accuracy: 0.610\n",
      " Test accuracy: 0.667\n",
      "Epoch: 020/100 cost: 4.028455257\n",
      " Training accuracy: 0.840\n",
      " Test accuracy: 0.833\n",
      "Epoch: 030/100 cost: 0.000000004\n",
      " Training accuracy: 1.000\n",
      " Test accuracy: 0.722\n",
      "Epoch: 040/100 cost: 0.000000002\n",
      " Training accuracy: 1.000\n",
      " Test accuracy: 0.722\n",
      "Epoch: 050/100 cost: 0.000000000\n",
      " Training accuracy: 1.000\n",
      " Test accuracy: 0.944\n",
      "Epoch: 060/100 cost: 0.000000000\n",
      " Training accuracy: 1.000\n",
      " Test accuracy: 0.889\n",
      "Epoch: 070/100 cost: 0.000000000\n",
      " Training accuracy: 1.000\n",
      " Test accuracy: 0.889\n",
      "Epoch: 080/100 cost: 0.000000000\n",
      " Training accuracy: 1.000\n",
      " Test accuracy: 1.000\n",
      "Epoch: 090/100 cost: 0.000000000\n",
      " Training accuracy: 1.000\n",
      " Test accuracy: 1.000\n",
      "Optimization Finished!\n"
     ]
    }
   ],
   "source": [
    "# Launch the graph\n",
    "sess = tf.Session()\n",
    "sess.run(init)\n",
    "\n",
    "# Training cycle\n",
    "for epoch in range(training_epochs):\n",
    "    avg_cost = 0.\n",
    "    num_batch = int(ntrain/batch_size)+1\n",
    "    # Loop over all batches\n",
    "    for i in range(num_batch): \n",
    "        randidx  = np.random.randint(ntrain, size=batch_size)\n",
    "        batch_xs = training_vec[randidx, :]\n",
    "        batch_ys = trainlabel[randidx, :]                \n",
    "        # Fit training using batch data\n",
    "        sess.run(optimizer, feed_dict={x: batch_xs, y: batch_ys, keep_prob:0.7})\n",
    "        # Compute average loss\n",
    "        avg_cost += sess.run(cost, feed_dict={x: batch_xs, y: batch_ys, keep_prob:1.})/num_batch\n",
    "\n",
    "    # Display logs per epoch step\n",
    "    if epoch % display_step == 0:\n",
    "        print (\"Epoch: %03d/%03d cost: %.9f\" % (epoch, training_epochs, avg_cost))\n",
    "        train_acc = sess.run(accuracy, feed_dict={x: batch_xs, y: batch_ys, keep_prob:1.})\n",
    "        print (\" Training accuracy: %.3f\" % (train_acc))\n",
    "        test_acc = sess.run(accuracy, feed_dict={x: testing_vec, y: testlabel, keep_prob:1.})\n",
    "        print (\" Test accuracy: %.3f\" % (test_acc))\n",
    "\n",
    "print (\"Optimization Finished!\")\n"
   ]
  },
  {
   "cell_type": "code",
   "execution_count": null,
   "metadata": {
    "collapsed": true
   },
   "outputs": [],
   "source": []
  },
  {
   "cell_type": "code",
   "execution_count": null,
   "metadata": {
    "collapsed": true
   },
   "outputs": [],
   "source": []
  }
 ],
 "metadata": {
  "kernelspec": {
   "display_name": "Python 3",
   "language": "python",
   "name": "python3"
  },
  "language_info": {
   "codemirror_mode": {
    "name": "ipython",
    "version": 3
   },
   "file_extension": ".py",
   "mimetype": "text/x-python",
   "name": "python",
   "nbconvert_exporter": "python",
   "pygments_lexer": "ipython3",
   "version": "3.5.1"
  }
 },
 "nbformat": 4,
 "nbformat_minor": 0
}
