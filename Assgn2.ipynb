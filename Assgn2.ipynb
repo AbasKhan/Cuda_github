{
 "cells": [
  {
   "cell_type": "code",
   "execution_count": 6,
   "metadata": {
    "collapsed": false
   },
   "outputs": [
    {
     "name": "stdout",
     "output_type": "stream",
     "text": [
      "\n"
     ]
    }
   ],
   "source": [
    "from tensorflow.examples.tutorials.mnist import input_data\n",
    "import tensorflow as tf\n",
    "import numpy as np\n"
   ]
  },
  {
   "cell_type": "code",
   "execution_count": 10,
   "metadata": {
    "collapsed": false
   },
   "outputs": [
    {
     "name": "stdout",
     "output_type": "stream",
     "text": [
      "Extracting MNIST_data/train-images-idx3-ubyte.gz\n",
      "Extracting MNIST_data/train-labels-idx1-ubyte.gz\n",
      "Extracting MNIST_data/t10k-images-idx3-ubyte.gz\n",
      "Extracting MNIST_data/t10k-labels-idx1-ubyte.gz\n"
     ]
    }
   ],
   "source": [
    "sess = tf.Session()\n",
    "\n",
    "learning_rate = 0.01\n",
    "training_epochs = 25\n",
    "batch_size = 100\n",
    "display_step = 1\n",
    "\n",
    "mnist = input_data.read_data_sets(\"MNIST_data/\", one_hot=True)\n",
    "x = tf.placeholder(\"float\", [None, 784], name='x')\n",
    "y = tf.placeholder(\"float\", [None, 10], name='y')\n",
    "w = tf.Variable(tf.random_normal([784, 10]), name='w')\n",
    "b = tf.Variable(tf.zeros([10]), name='b')\n",
    "activation = tf.nn.softmax(tf.matmul(x,w) + b)\n",
    "cross_entropy = tf.reduce_mean(-tf.reduce_sum(y* tf.log(activation), reduction_indices=[1]))\n",
    "train_step = tf.train.GradientDescentOptimizer(learning_rate).minimize(cross_entropy)\n",
    "# Test model\n",
    "correct_prediction = tf.equal(tf.argmax(activation, 1), tf.argmax(y, 1))\n",
    "# Calculate accuracy \n",
    "accuracy = tf.reduce_mean(tf.cast(correct_prediction, tf.float32))\n",
    "init = tf.initialize_all_variables()\n",
    "\n",
    "# relu_out = tf.nn.relu(y)\n",
    "# writer = tf.train.SummaryWriter('/tmp/tf_logs/logical_regression',sess.graph)\n",
    "# sess.run(tf.initialize_all_variables())"
   ]
  },
  {
   "cell_type": "code",
   "execution_count": 12,
   "metadata": {
    "collapsed": false
   },
   "outputs": [
    {
     "name": "stdout",
     "output_type": "stream",
     "text": [
      "Epoch: 0001 cost= 7.908694468 Accuracy: 0.3123\n",
      "Epoch: 0002 cost= 4.493864600 Accuracy: 0.4709\n",
      "Epoch: 0003 cost= 3.258924089 Accuracy: 0.5516\n",
      "Epoch: 0004 cost= 2.607012341 Accuracy: 0.6137\n",
      "Epoch: 0005 cost= 2.238259677 Accuracy: 0.6552\n",
      "Epoch: 0006 cost= 1.950978524 Accuracy: 0.6829\n",
      "Epoch: 0007 cost= 1.781980472 Accuracy: 0.7051\n",
      "Epoch: 0008 cost= 1.628448747 Accuracy: 0.7233\n",
      "Epoch: 0009 cost= 1.505784138 Accuracy: 0.7406\n",
      "Epoch: 0010 cost= 1.419513302 Accuracy: 0.753\n",
      "Epoch: 0011 cost= 1.352360053 Accuracy: 0.7643\n",
      "Epoch: 0012 cost= 1.264777880 Accuracy: 0.7709\n",
      "Epoch: 0013 cost= 1.227027438 Accuracy: 0.7784\n",
      "Epoch: 0014 cost= 1.166916923 Accuracy: 0.7841\n",
      "Epoch: 0015 cost= 1.137471534 Accuracy: 0.7899\n",
      "Epoch: 0016 cost= 1.102979525 Accuracy: 0.7968\n",
      "Epoch: 0017 cost= 1.061585864 Accuracy: 0.8007\n",
      "Epoch: 0018 cost= 1.034475480 Accuracy: 0.8056\n",
      "Epoch: 0019 cost= 1.016139168 Accuracy: 0.8094\n",
      "Epoch: 0020 cost= 0.986553630 Accuracy: 0.8124\n",
      "Epoch: 0021 cost= 0.969628134 Accuracy: 0.8164\n",
      "Epoch: 0022 cost= 0.942697619 Accuracy: 0.8195\n",
      "Epoch: 0023 cost= 0.928485586 Accuracy: 0.8217\n",
      "Epoch: 0024 cost= 0.916137668 Accuracy: 0.8244\n",
      "Epoch: 0025 cost= 0.896507646 Accuracy: 0.8274\n",
      "Optimization Finished!\n",
      "Accuracy: 0.8274\n"
     ]
    }
   ],
   "source": [
    "with tf.Session() as sess:\n",
    "    sess.run(init)\n",
    "\n",
    "    # Training cycle\n",
    "    for epoch in range(training_epochs):\n",
    "        avg_cost = 0.\n",
    "        total_batch = int(mnist.train.num_examples/batch_size)\n",
    "        # Loop over all batches\n",
    "        for i in range(total_batch):\n",
    "            batch_xs, batch_ys = mnist.train.next_batch(batch_size)\n",
    "            # Fit training using batch data\n",
    "            _, c = sess.run([train_step, cross_entropy], feed_dict={x: batch_xs,\n",
    "                                                          y: batch_ys})\n",
    "            # Compute average loss\n",
    "            avg_cost += c / total_batch\n",
    "        # Display logs per epoch step\n",
    "        if (epoch+1) % display_step == 0:\n",
    "            print \"Epoch:\", '%04d' % (epoch+1), \"cost=\", \"{:.9f}\".format(avg_cost),\n",
    "            print \"Accuracy:\", accuracy.eval({x: mnist.test.images, y: mnist.test.labels})\n",
    "\n",
    "    print \"Optimization Finished!\"\n",
    "    print \"Accuracy:\", accuracy.eval({x: mnist.test.images, y: mnist.test.labels})"
   ]
  },
  {
   "cell_type": "code",
   "execution_count": null,
   "metadata": {
    "collapsed": true
   },
   "outputs": [],
   "source": []
  }
 ],
 "metadata": {
  "kernelspec": {
   "display_name": "Python 2",
   "language": "python",
   "name": "python2"
  },
  "language_info": {
   "codemirror_mode": {
    "name": "ipython",
    "version": 2
   },
   "file_extension": ".py",
   "mimetype": "text/x-python",
   "name": "python",
   "nbconvert_exporter": "python",
   "pygments_lexer": "ipython2",
   "version": "2.7.11+"
  }
 },
 "nbformat": 4,
 "nbformat_minor": 0
}
