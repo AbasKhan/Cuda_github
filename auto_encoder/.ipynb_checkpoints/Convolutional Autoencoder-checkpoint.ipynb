{
 "cells": [
  {
   "cell_type": "code",
   "execution_count": 1,
   "metadata": {
    "collapsed": true
   },
   "outputs": [],
   "source": [
    "import matplotlib.pyplot as plt\n",
    "import numpy as np\n",
    "import math\n",
    "import tensorflow as tf\n",
    "import tensorflow.examples.tutorials.mnist.input_data as input_data\n",
    "%matplotlib inline "
   ]
  },
  {
   "cell_type": "code",
   "execution_count": 2,
   "metadata": {
    "collapsed": false
   },
   "outputs": [
    {
     "name": "stdout",
     "output_type": "stream",
     "text": [
      "Successfully downloaded train-images-idx3-ubyte.gz 9912422 bytes.\n",
      "Extracting data/train-images-idx3-ubyte.gz\n",
      "Successfully downloaded train-labels-idx1-ubyte.gz 28881 bytes.\n",
      "Extracting data/train-labels-idx1-ubyte.gz\n",
      "Successfully downloaded t10k-images-idx3-ubyte.gz 1648877 bytes.\n",
      "Extracting data/t10k-images-idx3-ubyte.gz\n",
      "Successfully downloaded t10k-labels-idx1-ubyte.gz 4542 bytes.\n",
      "Extracting data/t10k-labels-idx1-ubyte.gz\n",
      "Packages loaded\n"
     ]
    }
   ],
   "source": [
    "mnist = input_data.read_data_sets(\"data/\", one_hot=True)\n",
    "trainimgs   = mnist.train.images\n",
    "trainlabels = mnist.train.labels\n",
    "testimgs    = mnist.test.images\n",
    "testlabels  = mnist.test.labels\n",
    "ntrain      = trainimgs.shape[0]\n",
    "ntest       = testimgs.shape[0]\n",
    "dim         = trainimgs.shape[1]\n",
    "nout        = trainlabels.shape[1]\n",
    "print (\"Packages loaded\")"
   ]
  },
  {
   "cell_type": "code",
   "execution_count": 24,
   "metadata": {
    "collapsed": false
   },
   "outputs": [
    {
     "name": "stdout",
     "output_type": "stream",
     "text": [
      "Network ready\n"
     ]
    }
   ],
   "source": [
    "n1 = 16\n",
    "n2 = 32\n",
    "n3 = 64\n",
    "ksize = 5\n",
    "weights = {\n",
    "    'encoder_1': tf.Variable(tf.random_normal([ksize, ksize, 1, n1],  stddev=0.1)),\n",
    "    'encoder_2': tf.Variable(tf.random_normal([ksize, ksize, n1, n2], stddev=0.1)),\n",
    "    'encoder_3': tf.Variable(tf.random_normal([ksize, ksize, n2, n3], stddev=0.1)),\n",
    "    'decoder_3': tf.Variable(tf.random_normal([ksize, ksize, n2, n3], stddev=0.1)),\n",
    "    'decoder_2': tf.Variable(tf.random_normal([ksize, ksize, n1, n2], stddev=0.1)),\n",
    "    'decoder_1': tf.Variable(tf.random_normal([ksize, ksize, 1, n1],  stddev=0.1))\n",
    "}\n",
    "biases = {\n",
    "    'encoder_1': tf.Variable(tf.random_normal([n1], stddev=0.1)),\n",
    "    'encoder_2': tf.Variable(tf.random_normal([n2], stddev=0.1)),\n",
    "    'encoder_3': tf.Variable(tf.random_normal([n3], stddev=0.1)),\n",
    "    'decoder_3': tf.Variable(tf.random_normal([n2], stddev=0.1)),\n",
    "    'decoder_2': tf.Variable(tf.random_normal([n1], stddev=0.1)),\n",
    "    'decoder_1': tf.Variable(tf.random_normal([1],  stddev=0.1))\n",
    "}\n",
    "def encoder_decoder(_X, _W, _b, _keepprob):\n",
    "    input_r = tf.reshape(_X, shape=[-1, 28, 28, 1])\n",
    "    # Encoder\n",
    "    encoder_1 = tf.nn.sigmoid(tf.add(tf.nn.conv2d(input_r, _W['encoder_1']\n",
    "        , strides=[1, 2, 2, 1], padding='SAME'), _b['encoder_1']))\n",
    "    encoder_1 = tf.nn.dropout(encoder_1, _keepprob)\n",
    "    encoder_2 = tf.nn.sigmoid(tf.add(tf.nn.conv2d(encoder_1, _W['encoder_2']\n",
    "        , strides=[1, 2, 2, 1], padding='SAME'), _b['encoder_2'])) \n",
    "    encoder_2 = tf.nn.dropout(encoder_2, _keepprob)\n",
    "    encoder_3 = tf.nn.sigmoid(tf.add(tf.nn.conv2d(encoder_2, _W['encoder_3']\n",
    "        , strides=[1, 2, 2, 1], padding='SAME'), _b['encoder_3'])) \n",
    "    encoder_3 = tf.nn.dropout(encoder_3, _keepprob)\n",
    "    # Decoder\n",
    "    decoder_3 = tf.nn.sigmoid(tf.add(tf.nn.conv2d_transpose(encoder_3, _W['decoder_3']\n",
    "        , tf.pack([tf.shape(_X)[0], 7, 7, n2]), strides=[1, 2, 2, 1]\n",
    "        , padding='SAME'), _b['decoder_3'])) \n",
    "    decoder_3 = tf.nn.dropout(decoder_3, _keepprob)\n",
    "    decoder_2 = tf.nn.sigmoid(tf.add(tf.nn.conv2d_transpose(decoder_3, _W['decoder_2']\n",
    "        , tf.pack([tf.shape(_X)[0], 14, 14, n1]), strides=[1, 2, 2, 1]\n",
    "        , padding='SAME') , _b['decoder_2'])) \n",
    "    decoder_2 = tf.nn.dropout(decoder_2, _keepprob)\n",
    "    decoder_1 = tf.nn.sigmoid(tf.add(tf.nn.conv2d_transpose(decoder_2, _W['decoder_1']\n",
    "        , tf.pack([tf.shape(_X)[0], 28, 28, 1]), strides=[1, 2, 2, 1]\n",
    "        , padding='SAME'), _b['decoder_1'])) \n",
    "    decoder_1 = tf.nn.dropout(decoder_1, _keepprob)\n",
    "    out = decoder_1\n",
    "    return {'input_r': input_r, 'encoder_1': encoder_1, 'encoder_2': encoder_2, 'encoder_3': encoder_3\n",
    "        , 'decoder_3': decoder_3, 'decoder_2': decoder_2, 'decoder_1': decoder_1\n",
    "        , 'layers': (input_r, encoder_1, encoder_2, encoder_3, decoder_3, decoder_2, decoder_1)\n",
    "        , 'out': out}\n",
    "print (\"Network ready\")"
   ]
  },
  {
   "cell_type": "code",
   "execution_count": 26,
   "metadata": {
    "collapsed": false
   },
   "outputs": [
    {
     "name": "stdout",
     "output_type": "stream",
     "text": [
      "Functions ready\n"
     ]
    }
   ],
   "source": [
    "x = tf.placeholder(tf.float32, [None, dim])\n",
    "y = tf.placeholder(tf.float32, [None, dim])\n",
    "keepprob = tf.placeholder(tf.float32)\n",
    "pred = encoder_decoder(x, weights, biases, keepprob)['out']\n",
    "cost = tf.reduce_sum(tf.square(encoder_decoder(x, weights, biases, keepprob)['out'] \n",
    "            - tf.reshape(y, shape=[-1, 28, 28, 1])))\n",
    "learning_rate = 0.001\n",
    "optm = tf.train.AdamOptimizer(learning_rate).minimize(cost)\n",
    "init = tf.initialize_all_variables()\n",
    "print (\"Functions ready\")"
   ]
  },
  {
   "cell_type": "code",
   "execution_count": 31,
   "metadata": {
    "collapsed": false
   },
   "outputs": [
    {
     "name": "stdout",
     "output_type": "stream",
     "text": [
      "Strart training..\n",
      "[00/05] cost: 6444.8857\n"
     ]
    },
    {
     "data": {
      "image/png": "[encoded data removed]",
      "text/plain": [
       "<matplotlib.figure.Figure at 0x7f33e08662b0>"
      ]
     },
     "metadata": {},
     "output_type": "display_data"
    },
    {
     "ename": "KeyboardInterrupt",
     "evalue": "",
     "output_type": "error",
     "traceback": [
      "\u001b[1;31m------------------------------------------------------------------------\u001b[0m",
      "\u001b[1;31mKeyboardInterrupt\u001b[0m                      Traceback (most recent call last)",
      "\u001b[1;32m<ipython-input-31-f96f726a472d>\u001b[0m in \u001b[0;36m<module>\u001b[1;34m()\u001b[0m\n\u001b[0;32m     14\u001b[0m             trainbatch.shape[0], 784)\n\u001b[0;32m     15\u001b[0m         sess.run(optm, feed_dict={x: trainbatch_noisy\n\u001b[1;32m---> 16\u001b[1;33m                                   , y: trainbatch, keepprob: 0.7})\n\u001b[0m\u001b[0;32m     17\u001b[0m     print (\"[%02d/%02d] cost: %.4f\" % (epoch_i, n_epochs\n\u001b[0;32m     18\u001b[0m         , sess.run(cost, feed_dict={x: trainbatch_noisy\n",
      "\u001b[1;32m/home/abbas/anaconda3/lib/python3.5/site-packages/tensorflow/python/client/session.py\u001b[0m in \u001b[0;36mrun\u001b[1;34m(self, fetches, feed_dict, options, run_metadata)\u001b[0m\n\u001b[0;32m    370\u001b[0m     \u001b[1;32mtry\u001b[0m\u001b[1;33m:\u001b[0m\u001b[1;33m\u001b[0m\u001b[0m\n\u001b[0;32m    371\u001b[0m       result = self._run(None, fetches, feed_dict, options_ptr,\n\u001b[1;32m--> 372\u001b[1;33m                          run_metadata_ptr)\n\u001b[0m\u001b[0;32m    373\u001b[0m       \u001b[1;32mif\u001b[0m \u001b[0mrun_metadata\u001b[0m\u001b[1;33m:\u001b[0m\u001b[1;33m\u001b[0m\u001b[0m\n\u001b[0;32m    374\u001b[0m         \u001b[0mproto_data\u001b[0m \u001b[1;33m=\u001b[0m \u001b[0mtf_session\u001b[0m\u001b[1;33m.\u001b[0m\u001b[0mTF_GetBuffer\u001b[0m\u001b[1;33m(\u001b[0m\u001b[0mrun_metadata_ptr\u001b[0m\u001b[1;33m)\u001b[0m\u001b[1;33m\u001b[0m\u001b[0m\n",
      "\u001b[1;32m/home/abbas/anaconda3/lib/python3.5/site-packages/tensorflow/python/client/session.py\u001b[0m in \u001b[0;36m_run\u001b[1;34m(self, handle, fetches, feed_dict, options, run_metadata)\u001b[0m\n\u001b[0;32m    634\u001b[0m     \u001b[1;32mtry\u001b[0m\u001b[1;33m:\u001b[0m\u001b[1;33m\u001b[0m\u001b[0m\n\u001b[0;32m    635\u001b[0m       results = self._do_run(handle, target_list, unique_fetches,\n\u001b[1;32m--> 636\u001b[1;33m                              feed_dict_string, options, run_metadata)\n\u001b[0m\u001b[0;32m    637\u001b[0m     \u001b[1;32mfinally\u001b[0m\u001b[1;33m:\u001b[0m\u001b[1;33m\u001b[0m\u001b[0m\n\u001b[0;32m    638\u001b[0m       \u001b[1;31m# The movers are no longer used. Delete them.\u001b[0m\u001b[1;33m\u001b[0m\u001b[1;33m\u001b[0m\u001b[0m\n",
      "\u001b[1;32m/home/abbas/anaconda3/lib/python3.5/site-packages/tensorflow/python/client/session.py\u001b[0m in \u001b[0;36m_do_run\u001b[1;34m(self, handle, target_list, fetch_list, feed_dict, options, run_metadata)\u001b[0m\n\u001b[0;32m    706\u001b[0m     \u001b[1;32mif\u001b[0m \u001b[0mhandle\u001b[0m \u001b[1;32mis\u001b[0m \u001b[1;32mNone\u001b[0m\u001b[1;33m:\u001b[0m\u001b[1;33m\u001b[0m\u001b[0m\n\u001b[0;32m    707\u001b[0m       return self._do_call(_run_fn, self._session, feed_dict, fetch_list,\n\u001b[1;32m--> 708\u001b[1;33m                            target_list, options, run_metadata)\n\u001b[0m\u001b[0;32m    709\u001b[0m     \u001b[1;32melse\u001b[0m\u001b[1;33m:\u001b[0m\u001b[1;33m\u001b[0m\u001b[0m\n\u001b[0;32m    710\u001b[0m       return self._do_call(_prun_fn, self._session, handle, feed_dict,\n",
      "\u001b[1;32m/home/abbas/anaconda3/lib/python3.5/site-packages/tensorflow/python/client/session.py\u001b[0m in \u001b[0;36m_do_call\u001b[1;34m(self, fn, *args)\u001b[0m\n\u001b[0;32m    713\u001b[0m   \u001b[1;32mdef\u001b[0m \u001b[0m_do_call\u001b[0m\u001b[1;33m(\u001b[0m\u001b[0mself\u001b[0m\u001b[1;33m,\u001b[0m \u001b[0mfn\u001b[0m\u001b[1;33m,\u001b[0m \u001b[1;33m*\u001b[0m\u001b[0margs\u001b[0m\u001b[1;33m)\u001b[0m\u001b[1;33m:\u001b[0m\u001b[1;33m\u001b[0m\u001b[0m\n\u001b[0;32m    714\u001b[0m     \u001b[1;32mtry\u001b[0m\u001b[1;33m:\u001b[0m\u001b[1;33m\u001b[0m\u001b[0m\n\u001b[1;32m--> 715\u001b[1;33m       \u001b[1;32mreturn\u001b[0m \u001b[0mfn\u001b[0m\u001b[1;33m(\u001b[0m\u001b[1;33m*\u001b[0m\u001b[0margs\u001b[0m\u001b[1;33m)\u001b[0m\u001b[1;33m\u001b[0m\u001b[0m\n\u001b[0m\u001b[0;32m    716\u001b[0m     \u001b[1;32mexcept\u001b[0m \u001b[0merrors\u001b[0m\u001b[1;33m.\u001b[0m\u001b[0mOpError\u001b[0m \u001b[1;32mas\u001b[0m \u001b[0me\u001b[0m\u001b[1;33m:\u001b[0m\u001b[1;33m\u001b[0m\u001b[0m\n\u001b[0;32m    717\u001b[0m       \u001b[0mmessage\u001b[0m \u001b[1;33m=\u001b[0m \u001b[0mcompat\u001b[0m\u001b[1;33m.\u001b[0m\u001b[0mas_text\u001b[0m\u001b[1;33m(\u001b[0m\u001b[0me\u001b[0m\u001b[1;33m.\u001b[0m\u001b[0mmessage\u001b[0m\u001b[1;33m)\u001b[0m\u001b[1;33m\u001b[0m\u001b[0m\n",
      "\u001b[1;32m/home/abbas/anaconda3/lib/python3.5/site-packages/tensorflow/python/client/session.py\u001b[0m in \u001b[0;36m_run_fn\u001b[1;34m(session, feed_dict, fetch_list, target_list, options, run_metadata)\u001b[0m\n\u001b[0;32m    695\u001b[0m         return tf_session.TF_Run(session, options,\n\u001b[0;32m    696\u001b[0m                                  \u001b[0mfeed_dict\u001b[0m\u001b[1;33m,\u001b[0m \u001b[0mfetch_list\u001b[0m\u001b[1;33m,\u001b[0m \u001b[0mtarget_list\u001b[0m\u001b[1;33m,\u001b[0m\u001b[1;33m\u001b[0m\u001b[0m\n\u001b[1;32m--> 697\u001b[1;33m                                  status, run_metadata)\n\u001b[0m\u001b[0;32m    698\u001b[0m \u001b[1;33m\u001b[0m\u001b[0m\n\u001b[0;32m    699\u001b[0m     \u001b[1;32mdef\u001b[0m \u001b[0m_prun_fn\u001b[0m\u001b[1;33m(\u001b[0m\u001b[0msession\u001b[0m\u001b[1;33m,\u001b[0m \u001b[0mhandle\u001b[0m\u001b[1;33m,\u001b[0m \u001b[0mfeed_dict\u001b[0m\u001b[1;33m,\u001b[0m \u001b[0mfetch_list\u001b[0m\u001b[1;33m)\u001b[0m\u001b[1;33m:\u001b[0m\u001b[1;33m\u001b[0m\u001b[0m\n",
      "\u001b[1;31mKeyboardInterrupt\u001b[0m: "
     ]
    }
   ],
   "source": [
    "sess = tf.Session()\n",
    "sess.run(init)\n",
    "# mean_img = np.mean(mnist.train.images, axis=0)\n",
    "mean_img = np.zeros((784))\n",
    "# Fit all training data\n",
    "batch_size = 128\n",
    "n_epochs   = 5\n",
    "print(\"Strart training..\")\n",
    "for epoch_i in range(n_epochs):\n",
    "    for batch_i in range(mnist.train.num_examples // batch_size):\n",
    "        batch_xs, _ = mnist.train.next_batch(batch_size)\n",
    "        trainbatch = np.array([img - mean_img for img in batch_xs])\n",
    "        trainbatch_noisy = trainbatch + 0.3*np.random.randn(\n",
    "            trainbatch.shape[0], 784)\n",
    "        sess.run(optm, feed_dict={x: trainbatch_noisy\n",
    "                                  , y: trainbatch, keepprob: 0.7})\n",
    "    print (\"[%02d/%02d] cost: %.4f\" % (epoch_i, n_epochs\n",
    "        , sess.run(cost, feed_dict={x: trainbatch_noisy\n",
    "                                    , y: trainbatch, keepprob: 1.})))\n",
    "    if (epoch_i % 1) == 0:\n",
    "        n_examples = 5\n",
    "        test_xs, _ = mnist.test.next_batch(n_examples)\n",
    "#         test_xs = np.array([img - mean_img for img in batch_xs])\n",
    "        test_xs_noisy = test_xs + 0.3*np.random.randn(\n",
    "            test_xs.shape[0], 784)\n",
    "        recon = sess.run(pred, feed_dict={x: test_xs_noisy, keepprob: 1.})\n",
    "        fig, axs = plt.subplots(2, n_examples, figsize=(15, 4))\n",
    "        for example_i in range(n_examples):\n",
    "            axs[0][example_i].matshow(np.reshape(\n",
    "                test_xs_noisy[example_i, :], (28, 28))\n",
    "                , cmap=plt.get_cmap('gray'))\n",
    "            axs[1][example_i].matshow(np.reshape(\n",
    "                np.reshape(recon[example_i, ...], (784,))\n",
    "                + mean_img, (28, 28)), cmap=plt.get_cmap('gray'))\n",
    "        plt.show()\n",
    "print(\"Training done. \")"
   ]
  },
  {
   "cell_type": "code",
   "execution_count": null,
   "metadata": {
    "collapsed": true
   },
   "outputs": [],
   "source": []
  }
 ],
 "metadata": {
  "kernelspec": {
   "display_name": "Python 3",
   "language": "python",
   "name": "python3"
  },
  "language_info": {
   "codemirror_mode": {
    "name": "ipython",
    "version": 3
   },
   "file_extension": ".py",
   "mimetype": "text/x-python",
   "name": "python",
   "nbconvert_exporter": "python",
   "pygments_lexer": "ipython3",
   "version": "3.5.1"
  }
 },
 "nbformat": 4,
 "nbformat_minor": 0
}
