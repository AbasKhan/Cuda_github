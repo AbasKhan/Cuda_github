{
 "cells": [
  {
   "cell_type": "code",
   "execution_count": null,
   "metadata": {
    "collapsed": false
   },
   "outputs": [],
   "source": [
    "\"\"\" Simple Auto Encoder \"\"\""
   ]
  },
  {
   "cell_type": "code",
   "execution_count": 7,
   "metadata": {
    "collapsed": false
   },
   "outputs": [
    {
     "name": "stdout",
     "output_type": "stream",
     "text": [
      "Extracting MNIST_data/train-images-idx3-ubyte.gz\n",
      "Extracting MNIST_data/train-labels-idx1-ubyte.gz\n",
      "Extracting MNIST_data/t10k-images-idx3-ubyte.gz\n",
      "Extracting MNIST_data/t10k-labels-idx1-ubyte.gz\n"
     ]
    }
   ],
   "source": [
    "from __future__ import division, print_function, absolute_import\n",
    "\n",
    "import tensorflow as tf\n",
    "import numpy as np\n",
    "import matplotlib.pyplot as plt\n",
    "\n",
    "# Import MINST data\n",
    "from tensorflow.examples.tutorials.mnist import input_data\n",
    "mnist = input_data.read_data_sets(\"MNIST_data/\", one_hot=True)\n",
    "trainimg   = mnist.train.images\n",
    "trainlabel = mnist.train.labels\n",
    "testimg    = mnist.test.images\n",
    "testlabel  = mnist.test.labels"
   ]
  },
  {
   "cell_type": "code",
   "execution_count": 17,
   "metadata": {
    "collapsed": true
   },
   "outputs": [],
   "source": [
    "# Parameters\n",
    "learning_rate = 0.01\n",
    "training_epochs = 5\n",
    "batch_size      = 100\n",
    "display_step = 1\n",
    "plot_step       = 10\n",
    "\n",
    "# Network Parameters\n",
    "n_hidden_1 = 256 # 1st layer num features\n",
    "n_hidden_2 = 256 # 2nd layer num features\n",
    "n_input    = 784 # MNIST data input (img shape: 28*28)\n",
    "n_output   = 784 # \n",
    "\n",
    "# tf Graph input\n",
    "x = tf.placeholder(\"float\", [None, n_input])\n",
    "y = tf.placeholder(\"float\", [None, n_output])\n",
    "dropout_keep_prob = tf.placeholder(\"float\")\n",
    "\n",
    "weights = {\n",
    "    'h1': tf.Variable(tf.random_normal([n_input, n_hidden_1])),\n",
    "    'h2': tf.Variable(tf.random_normal([n_hidden_1, n_hidden_2])),\n",
    "    'output':tf.Variable(tf.random_normal([n_hidden_2, n_output]))\n",
    "}\n",
    "biases = {\n",
    "    'b1': tf.Variable(tf.random_normal([n_hidden_1])),\n",
    "    'b2': tf.Variable(tf.random_normal([n_hidden_2])),\n",
    "    'output':tf.Variable(tf.random_normal([n_output]))\n",
    "}"
   ]
  },
  {
   "cell_type": "code",
   "execution_count": 19,
   "metadata": {
    "collapsed": false
   },
   "outputs": [],
   "source": [
    "# Building the encoder\n",
    "# def encoder(x):\n",
    "#     # Encoder Hidden layer with sigmoid activation #1\n",
    "#     layer_1 = tf.nn.sigmoid(tf.add(tf.matmul(x, weights['encoder_h1']),\n",
    "#                                    biases['encoder_b1']))\n",
    "#     layer_1=tf.nn.dropout(layer_1, dropout_keep_prob) \n",
    "#     # Decoder Hidden layer with sigmoid activation #2\n",
    "#     layer_2 = tf.nn.sigmoid(tf.add(tf.matmul(layer_1, weights['encoder_h2']),\n",
    "#                                    biases['encoder_b2']))\n",
    "#     return layer_2\n",
    "\n",
    "\n",
    "# Building the decoder\n",
    "def decoder(x):\n",
    "    x = tf.reshape(x, shape=[-1,28,28, 1])\n",
    "    # Encoder Hidden layer with sigmoid activation #1\n",
    "    layer_1 = tf.nn.sigmoid(tf.add(tf.matmul(x, weights['h1']),\n",
    "                                   biases['b1']))\n",
    "    layer_1=tf.nn.dropout(layer_1, dropout_keep_prob) \n",
    "    # Decoder Hidden layer with sigmoid activation #2\n",
    "    layer_2 = tf.nn.sigmoid(tf.add(tf.matmul(layer_1, weights['h2']),\n",
    "                                   biases['b2']))\n",
    "    layer_2=tf.nn.dropout(layer_2, dropout_keep_prob) \n",
    "    \n",
    "    output = tf.nn.sigmoid(tf.matmul(layer_2,weights['output']) + biases['output'])\n",
    "    return output\n",
    "\n",
    "# Construct model\n",
    "# encoder_op = encoder(X)\n",
    "decoder_op = decoder(x)\n",
    "\n",
    "# Prediction\n",
    "y_pred = decoder_op\n",
    "# Targets (Labels) are the input data.\n",
    "# y_true = y\n",
    "\n",
    "# Define loss and optimizer, minimize the squared error\n",
    "cost = tf.reduce_mean(tf.pow(y_pred - y, 2))\n",
    "optimizer = tf.train.AdamOptimizer(learning_rate=learning_rate).minimize(cost)\n",
    "\n",
    "# Initializing the variables\n",
    "init = tf.initialize_all_variables()"
   ]
  },
  {
   "cell_type": "code",
   "execution_count": 24,
   "metadata": {
    "collapsed": false
   },
   "outputs": [
    {
     "name": "stdout",
     "output_type": "stream",
     "text": [
      "Epoch: 000/005 cost: 0.106128549\n",
      "Epoch: 001/005 cost: 0.080328583\n",
      "Epoch: 002/005 cost: 0.063283764\n",
      "Epoch: 003/005 cost: 0.049055579\n",
      "Epoch: 004/005 cost: 0.038002230\n",
      "Optimization Finished!\n"
     ]
    }
   ],
   "source": [
    "# Launch the graph\n",
    "sess = tf.Session()\n",
    "\n",
    "sess.run(init)\n",
    "\n",
    "total_batch = int(mnist.train.num_examples/batch_size)\n",
    "# Training cycle\n",
    "for epoch in range(training_epochs):\n",
    "    avg_cost = 0.\n",
    "    num_batch = int(mnist.train.num_examples/batch_size)\n",
    "    # Loop over all batches\n",
    "    for i in range(num_batch): \n",
    "        randidx = np.random.randint(trainimg.shape[0], size=batch_size)\n",
    "        batch_xs = trainimg[randidx, :]\n",
    "        batch_xs_noisy = batch_xs + 0.3*np.random.randn(batch_xs.shape[0], 784)\n",
    "\n",
    "        batch_ys = trainlabel[randidx, :]                \n",
    "\n",
    "        # Fit training using batch data\n",
    "        sess.run(optimizer, feed_dict={x: batch_xs_noisy, y: batch_xs, dropout_keep_prob: 0.5})\n",
    "        # Compute average loss\n",
    "        avg_cost += sess.run(cost, feed_dict={x: batch_xs_noisy, y: batch_xs, dropout_keep_prob: 1})/num_batch\n",
    "\n",
    "    # Display logs per epoch step\n",
    "    if epoch % display_step == 0:\n",
    "        print (\"Epoch: %03d/%03d cost: %.9f\" % (epoch, training_epochs, avg_cost))\n",
    "    if epoch % plot_step == 0:\n",
    "        # Test one\n",
    "        randidx  = np.random.randint(testimg.shape[0], size=1)\n",
    "        testvec  = testimg[randidx, :]\n",
    "        noisyvec = testvec + 0.3*np.random.randn(1, 784)\n",
    "        outvec   = sess.run(y_pred, feed_dict={x: testvec, dropout_keep_prob: 1.})\n",
    "        outimg   = np.reshape(outvec, (28, 28))\n",
    "\n",
    "        # Plot \n",
    "        plt.matshow(np.reshape(testvec, (28, 28)), cmap=plt.get_cmap('gray'))\n",
    "        plt.title(\"[\" + str(epoch) + \"] Original Image\")\n",
    "        plt.colorbar()\n",
    "\n",
    "        plt.matshow(np.reshape(noisyvec, (28, 28)), cmap=plt.get_cmap('gray'))\n",
    "        plt.title(\"[\" + str(epoch) + \"] Input Image\")\n",
    "        plt.colorbar()\n",
    "\n",
    "        plt.matshow(outimg, cmap=plt.get_cmap('gray'))\n",
    "        plt.title(\"[\" + str(epoch) + \"] Reconstructed Image\")\n",
    "        plt.colorbar()\n",
    "        plt.show()\n",
    "\n",
    "#         saver.save(sess, savedir + 'dae_dr.ckpt', global_step=epoch)\n",
    "print (\"Optimization Finished!\")"
   ]
  },
  {
   "cell_type": "code",
   "execution_count": null,
   "metadata": {
    "collapsed": false
   },
   "outputs": [],
   "source": [
    "# Result"
   ]
  }
 ],
 "metadata": {
  "kernelspec": {
   "display_name": "Python 2",
   "language": "python",
   "name": "python2"
  },
  "language_info": {
   "codemirror_mode": {
    "name": "ipython",
    "version": 2
   },
   "file_extension": ".py",
   "mimetype": "text/x-python",
   "name": "python",
   "nbconvert_exporter": "python",
   "pygments_lexer": "ipython2",
   "version": "2.7.11+"
  }
 },
 "nbformat": 4,
 "nbformat_minor": 0
}
