{
 "cells": [
  {
   "cell_type": "code",
   "execution_count": 1,
   "metadata": {
    "collapsed": false
   },
   "outputs": [],
   "source": [
    "import numpy as np\n",
    "import matplotlib.pyplot as plt\n",
    "import tensorflow as tf\n",
    "from tensorflow.examples.tutorials.mnist import input_data\n",
    "%matplotlib inline  "
   ]
  },
  {
   "cell_type": "code",
   "execution_count": 2,
   "metadata": {
    "collapsed": false
   },
   "outputs": [
    {
     "name": "stdout",
     "output_type": "stream",
     "text": [
      "Extracting MNIST_data/train-images-idx3-ubyte.gz\n",
      "Extracting MNIST_data/train-labels-idx1-ubyte.gz\n",
      "Extracting MNIST_data/t10k-images-idx3-ubyte.gz\n",
      "Extracting MNIST_data/t10k-labels-idx1-ubyte.gz\n"
     ]
    }
   ],
   "source": [
    "training_epochs = 50\n",
    "batch_size = 100\n",
    "learning_rate = 0.001\n",
    "dropout=0.75\n",
    "n_input_width=28\n",
    "n_input_height=28\n",
    "\n",
    "n_output  = 10 # e.g. MNIST total classes (0-9 digits)\n",
    "\n",
    "mnist = input_data.read_data_sets(\"MNIST_data/\", one_hot=True)\n",
    "\n",
    "# tf Graph input\n",
    "x = tf.placeholder(tf.float32, [None, n_input_width * n_input_height])\n",
    "y = tf.placeholder(tf.float32, [None, n_output])\n",
    "keep_prob = tf.placeholder(tf.float32) #dropout (keep probability)"
   ]
  },
  {
   "cell_type": "code",
   "execution_count": 3,
   "metadata": {
    "collapsed": false
   },
   "outputs": [],
   "source": [
    "# Create some wrappers for simplicity\n",
    "def conv2d(x, W, b):\n",
    "    # Conv2D wrapper, with bias and relu activation\n",
    "    x = tf.nn.conv2d(x, W, strides=[1, 1, 1, 1], padding='SAME')\n",
    "    x = tf.nn.bias_add(x, b)\n",
    "    return tf.nn.relu(x)\n",
    "\n",
    "\n",
    "def maxpool2d(x):\n",
    "    # MaxPool2D wrapper\n",
    "    return tf.nn.max_pool(x, ksize=[1, 2, 2, 1], strides=[1, 2, 2, 1],\n",
    "                          padding='SAME')\n",
    "\n",
    "\n",
    "# Create model\n",
    "def conv_net(x, weights, biases, dropout):\n",
    "    # Reshape input picture\n",
    "    x = tf.reshape(x, shape=[-1, n_input_width, n_input_width, 1])\n",
    "    \n",
    "\n",
    "    # Convolution Layer\n",
    "    conv1 = conv2d(x, weights['wc1'], biases['bc1'])\n",
    "    # Max Pooling (down-sampling)\n",
    "    conv1 = maxpool2d(conv1)\n",
    "  \n",
    "    # Convolution Layer\n",
    "    conv2 = conv2d(conv1, weights['wc2'], biases['bc2'])\n",
    "    # Max Pooling (down-sampling)\n",
    "    conv2 = maxpool2d(conv2)\n",
    "\n",
    "    # Fully connected layer\n",
    "    # Reshape conv2 output to fit fully connected layer input\n",
    "    fc1 = tf.reshape(conv2, [-1, weights['wd1'].get_shape().as_list()[0]])\n",
    "    fc1 = tf.add(tf.matmul(fc1, weights['wd1']), biases['bd1'])\n",
    "    fc1 = tf.nn.relu(fc1)\n",
    "    # Apply Dropout\n",
    "    fc1 = tf.nn.dropout(fc1, dropout)\n",
    "\n",
    "    # Output, class prediction\n",
    "    out = tf.add(tf.matmul(fc1, weights['out']), biases['out'])\n",
    "    return out"
   ]
  },
  {
   "cell_type": "code",
   "execution_count": 4,
   "metadata": {
    "collapsed": false
   },
   "outputs": [],
   "source": [
    "# Store layers weight & bias\n",
    "weights = {\n",
    "    # 5x5 conv, 1 input, 32 outputs\n",
    "    'wc1':tf.Variable(tf.random_normal([5,5,1,32], stddev=0.1)),\n",
    "    # 5x5 conv, 32 inputs, 64 outputs\n",
    "    'wc2':tf.Variable(tf.random_normal([5,5,32, 64], stddev=0.1)),\n",
    "    # fully connected, 7*7*64 inputs, 1024 outputs\n",
    "    'wd1': tf.Variable(tf.random_normal([7*7*64, 1024], stddev=0.1)),\n",
    "    'out': tf.Variable(tf.random_normal([1024, 10], stddev=0.1))\n",
    "}\n",
    "\n",
    "biases = {\n",
    "    'bc1': tf.Variable(tf.random_normal([32], stddev=0.1)),\n",
    "    'bc2':tf.Variable(tf.random_normal([64], stddev=0.1)),\n",
    "    'bd1': tf.Variable(tf.random_normal([1024], stddev=0.1)),\n",
    "    'out': tf.Variable(tf.random_normal([10], stddev=0.1))\n",
    "\n",
    "}\n",
    "\n",
    "# Construct model\n",
    "pred = conv_net(x, weights, biases, keep_prob)\n",
    "\n",
    "# Define loss and optimizer\n",
    "cost = tf.reduce_mean(tf.nn.softmax_cross_entropy_with_logits(pred, y))\n",
    "optimizer = tf.train.AdamOptimizer(learning_rate=learning_rate).minimize(cost)\n",
    "\n",
    "# Evaluate model\n",
    "correct_pred = tf.equal(tf.argmax(pred, 1), tf.argmax(y, 1))\n",
    "accuracy = tf.reduce_mean(tf.cast(correct_pred, tf.float32))\n",
    "\n",
    "# Initializing the variables\n",
    "init = tf.initialize_all_variables()\n"
   ]
  },
  {
   "cell_type": "code",
   "execution_count": null,
   "metadata": {
    "collapsed": false
   },
   "outputs": [
    {
     "name": "stdout",
     "output_type": "stream",
     "text": [
      "Epoch   0 , batch Loss= 7.443917, Training Accuracy= 0.24000\n",
      "Epoch   1 , batch Loss= 12.941023, Training Accuracy= 0.18000\n",
      "Epoch   2 , batch Loss= 11.124873, Training Accuracy= 0.24000\n",
      "Epoch   3 , batch Loss= 8.047058, Training Accuracy= 0.38000\n",
      "Epoch   4 , batch Loss= 5.928212, Training Accuracy= 0.49000\n",
      "Epoch   5 , batch Loss= 3.064376, Training Accuracy= 0.58000\n",
      "Epoch   6 , batch Loss= 3.566481, Training Accuracy= 0.53000\n",
      "Epoch   7 , batch Loss= 3.939984, Training Accuracy= 0.48000\n",
      "Epoch   8 , batch Loss= 2.946337, Training Accuracy= 0.54000\n",
      "Epoch   9 , batch Loss= 2.177978, Training Accuracy= 0.62000\n",
      "Epoch   10 , batch Loss= 1.795449, Training Accuracy= 0.62000\n",
      "Epoch   11 , batch Loss= 1.303587, Training Accuracy= 0.63000\n",
      "Epoch   12 , batch Loss= 1.089547, Training Accuracy= 0.61000\n",
      "Epoch   13 , batch Loss= 0.908829, Training Accuracy= 0.69000\n",
      "Epoch   14 , batch Loss= 1.014076, Training Accuracy= 0.66000\n",
      "Epoch   15 , batch Loss= 0.965246, Training Accuracy= 0.65000\n",
      "Epoch   16 , batch Loss= 0.958162, Training Accuracy= 0.69000\n",
      "Epoch   17 , batch Loss= 0.936431, Training Accuracy= 0.67000\n",
      "Epoch   18 , batch Loss= 1.111954, Training Accuracy= 0.66000\n",
      "Epoch   19 , batch Loss= 0.793846, Training Accuracy= 0.75000\n",
      "Epoch   20 , batch Loss= 0.821321, Training Accuracy= 0.76000\n",
      "Epoch   21 , batch Loss= 0.680632, Training Accuracy= 0.81000\n",
      "Epoch   22 , batch Loss= 1.050032, Training Accuracy= 0.61000\n",
      "Epoch   23 , batch Loss= 0.771925, Training Accuracy= 0.77000\n",
      "Epoch   24 , batch Loss= 0.685277, Training Accuracy= 0.76000\n",
      "Epoch   25 , batch Loss= 0.604876, Training Accuracy= 0.77000\n",
      "Epoch   26 , batch Loss= 0.597921, Training Accuracy= 0.82000\n",
      "Epoch   27 , batch Loss= 0.675822, Training Accuracy= 0.83000\n",
      "Epoch   28 , batch Loss= 0.485943, Training Accuracy= 0.86000\n",
      "Epoch   29 , batch Loss= 0.447272, Training Accuracy= 0.86000\n",
      "Epoch   30 , batch Loss= 0.386367, Training Accuracy= 0.92000\n",
      "Epoch   31 , batch Loss= 0.464285, Training Accuracy= 0.82000\n",
      "Epoch   32 , batch Loss= 0.568676, Training Accuracy= 0.84000\n",
      "Epoch   33 , batch Loss= 0.299186, Training Accuracy= 0.91000\n",
      "Epoch   34 , batch Loss= 0.473879, Training Accuracy= 0.90000\n",
      "Epoch   35 , batch Loss= 0.293163, Training Accuracy= 0.92000\n",
      "Epoch   36 , batch Loss= 0.449845, Training Accuracy= 0.86000\n",
      "Epoch   37 , batch Loss= 0.716799, Training Accuracy= 0.81000\n",
      "Epoch   38 , batch Loss= 0.524015, Training Accuracy= 0.87000\n",
      "Epoch   39 , batch Loss= 0.406646, Training Accuracy= 0.89000\n",
      "Epoch   40 , batch Loss= 0.248263, Training Accuracy= 0.93000\n",
      "Epoch   41 , batch Loss= 0.272306, Training Accuracy= 0.92000\n",
      "Epoch   42 , batch Loss= 0.381106, Training Accuracy= 0.87000\n",
      "Epoch   43 , batch Loss= 0.281299, Training Accuracy= 0.92000\n",
      "Epoch   44 , batch Loss= 0.321548, Training Accuracy= 0.94000\n",
      "Epoch   45 , batch Loss= 0.333797, Training Accuracy= 0.91000\n",
      "Epoch   46 , batch Loss= 0.315752, Training Accuracy= 0.92000\n",
      "Epoch   47 , batch Loss= 0.310458, Training Accuracy= 0.92000\n",
      "Epoch   48 , batch Loss= 0.176586, Training Accuracy= 0.92000\n",
      "Epoch   49 , batch Loss= 0.118258, Training Accuracy= 0.98000\n",
      "Optimization Finished!\n"
     ]
    }
   ],
   "source": [
    "# Launch the graph\n",
    "with tf.Session() as sess:\n",
    "    sess.run(init)\n",
    "    step = 1\n",
    "    # Keep training until reach max iterations\n",
    "    for epoch in range(training_epochs):\n",
    "        batch_x, batch_y = mnist.train.next_batch(batch_size)\n",
    "        # Run optimization op (backprop)\n",
    "        sess.run(optimizer, feed_dict={x: batch_x, y: batch_y, keep_prob: dropout})\n",
    "            # Calculate batch loss and accuracy\n",
    "        loss, acc = sess.run([cost, accuracy], feed_dict={x: batch_x,\n",
    "                                                          y: batch_y,keep_prob: 1.\n",
    "                                                          })\n",
    "        print (\"Epoch  \" ,epoch  ,\", batch Loss= \" +\"{:.6f}\".format(loss) + \", Training Accuracy= \" + \"{:.5f}\".format(acc))\n",
    "    print (\"Optimization Finished!\")\n",
    "\n",
    "    # Calculate accuracy mnist test images\n",
    "    print (\"Testing Accuracy:\", \\\n",
    "        sess.run(accuracy, feed_dict={x: mnist.test.images,\n",
    "                                      y: mnist.test.labels,\n",
    "                                      keep_prob: 1.\n",
    "                                      }))"
   ]
  },
  {
   "cell_type": "code",
   "execution_count": null,
   "metadata": {
    "collapsed": true
   },
   "outputs": [],
   "source": []
  }
 ],
 "metadata": {
  "kernelspec": {
   "display_name": "Python 3",
   "language": "python",
   "name": "python3"
  },
  "language_info": {
   "codemirror_mode": {
    "name": "ipython",
    "version": 3
   },
   "file_extension": ".py",
   "mimetype": "text/x-python",
   "name": "python",
   "nbconvert_exporter": "python",
   "pygments_lexer": "ipython3",
   "version": "3.5.1"
  }
 },
 "nbformat": 4,
 "nbformat_minor": 0
}
