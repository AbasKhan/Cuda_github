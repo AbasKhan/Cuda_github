{
 "cells": [
  {
   "cell_type": "code",
   "execution_count": 17,
   "metadata": {
    "collapsed": false
   },
   "outputs": [],
   "source": [
    "from tensorflow.examples.tutorials.mnist import input_data\n",
    "import tensorflow as tf\n",
    "import numpy as np\n"
   ]
  },
  {
   "cell_type": "code",
   "execution_count": 18,
   "metadata": {
    "collapsed": false
   },
   "outputs": [
    {
     "name": "stdout",
     "output_type": "stream",
     "text": [
      "Extracting MNIST_data/train-images-idx3-ubyte.gz\n",
      "Extracting MNIST_data/train-labels-idx1-ubyte.gz\n",
      "Extracting MNIST_data/t10k-images-idx3-ubyte.gz\n",
      "Extracting MNIST_data/t10k-labels-idx1-ubyte.gz\n"
     ]
    }
   ],
   "source": [
    "sess = tf.Session()\n",
    "learning_rate = 0.01\n",
    "training_epochs = 25\n",
    "batch_size = 100\n",
    "display_step = 1\n",
    "momentum = 0.5\n",
    "\n",
    "n_input = 784 \n",
    "n_hidden_1 = 392\n",
    "n_hidden_2 = 200\n",
    "n_hidden_3 = 100\n",
    "n_classes = 10\n",
    "\n",
    "mnist = input_data.read_data_sets(\"MNIST_data/\", one_hot=True)\n",
    "x= tf.placeholder(\"float\",[None,n_input],name='x')\n",
    "y=tf.placeholder(\"float\",[None,n_classes],name='y')\n",
    "keep_prob = tf.placeholder(tf.float32)\n",
    "\n",
    "stddev = 0.1\n",
    "\n"
   ]
  },
  {
   "cell_type": "code",
   "execution_count": 19,
   "metadata": {
    "collapsed": true
   },
   "outputs": [],
   "source": [
    "# Create model\n",
    "def multilayer_perceptron(x, weights, biases):\n",
    "    # Hidden layer with RELU activation\n",
    "    layer_1 = tf.add(tf.matmul(x, weights['h1']), biases['b1'])\n",
    "    layer_1 = tf.nn.relu(layer_1)\n",
    "    # Hidden layer with RELU activation\n",
    "    layer_2 = tf.add(tf.matmul(layer_1, weights['h2']), biases['b2'])\n",
    "    layer_2 = tf.nn.relu(layer_2)\n",
    "    \n",
    "    # Hidden layer with RELU activation\n",
    "    layer_3 = tf.add(tf.matmul(layer_2, weights['h3']), biases['b3'])\n",
    "    layer_3 = tf.nn.relu(layer_3)\n",
    "        \n",
    "    #Apply dropout\n",
    "    h_fc1_drop = tf.nn.dropout(layer_3, keep_prob)\n",
    "    \n",
    "    # Output layer with linear activation\n",
    "    out_layer = tf.matmul(h_fc1_drop, weights['out']) + biases['out']\n",
    "    return out_layer"
   ]
  },
  {
   "cell_type": "code",
   "execution_count": 20,
   "metadata": {
    "collapsed": false
   },
   "outputs": [],
   "source": [
    "# Store layers weight & bias\n",
    "weights = {\n",
    "    'h1': tf.Variable(tf.random_normal([n_input, n_hidden_1],stddev=0.1)),\n",
    "    'h2': tf.Variable(tf.random_normal([n_hidden_1, n_hidden_2],stddev=0.1)),\n",
    "    'h3': tf.Variable(tf.random_normal([n_hidden_2, n_hidden_3],stddev=0.1)),\n",
    "    'out': tf.Variable(tf.random_normal([n_hidden_3, n_classes],stddev=0.1))\n",
    "}\n",
    "biases = {\n",
    "    'b1': tf.Variable(tf.random_normal([n_hidden_1])),\n",
    "    'b2': tf.Variable(tf.random_normal([n_hidden_2])),\n",
    "    'b3': tf.Variable(tf.random_normal([n_hidden_3])),\n",
    "    'out': tf.Variable(tf.random_normal([n_classes]))\n",
    "}\n",
    "\n",
    "# Construct model\n",
    "pred = multilayer_perceptron(x, weights, biases)\n",
    "\n",
    "# Define loss and optimizer\n",
    "cost = tf.reduce_mean(tf.nn.softmax_cross_entropy_with_logits(pred, y))\n",
    "optimizer = tf.train.MomentumOptimizer(0.01,0.9).minimize(cost)\n",
    "\n",
    "# Test model\n",
    "correct_prediction = tf.equal(tf.argmax(pred, 1), tf.argmax(y, 1))\n",
    "\n",
    "# Calculate accuracy\n",
    "accuracy = tf.reduce_mean(tf.cast(correct_prediction, \"float\"))\n",
    "# Initializing the variables\n",
    "init = tf.initialize_all_variables()\n",
    "  "
   ]
  },
  {
   "cell_type": "code",
   "execution_count": 21,
   "metadata": {
    "collapsed": false
   },
   "outputs": [
    {
     "name": "stdout",
     "output_type": "stream",
     "text": [
      "Epoch: 0001 cost= 0.592138378 Accuracy: 0.9316\n",
      "Epoch: 0002 cost= 0.259717852 Accuracy: 0.9519\n",
      "Epoch: 0003 cost= 0.192017377 Accuracy: 0.9593\n",
      "Epoch: 0004 cost= 0.155362983 Accuracy: 0.959\n",
      "Epoch: 0005 cost= 0.131932600 Accuracy: 0.9681\n",
      "Epoch: 0006 cost= 0.113083565 Accuracy: 0.9678\n",
      "Epoch: 0007 cost= 0.096478783 Accuracy: 0.9697\n",
      "Epoch: 0008 cost= 0.086229785 Accuracy: 0.9711\n",
      "Epoch: 0009 cost= 0.074131607 Accuracy: 0.9736\n",
      "Epoch: 0010 cost= 0.065824746 Accuracy: 0.9741\n",
      "Epoch: 0011 cost= 0.057037171 Accuracy: 0.9741\n",
      "Epoch: 0012 cost= 0.052677493 Accuracy: 0.9754\n",
      "Epoch: 0013 cost= 0.046127827 Accuracy: 0.9771\n",
      "Epoch: 0014 cost= 0.040659098 Accuracy: 0.9746\n",
      "Epoch: 0015 cost= 0.036826934 Accuracy: 0.9746\n",
      "Epoch: 0016 cost= 0.032593158 Accuracy: 0.9765\n",
      "Epoch: 0017 cost= 0.028802317 Accuracy: 0.977\n",
      "Epoch: 0018 cost= 0.027140678 Accuracy: 0.9746\n",
      "Epoch: 0019 cost= 0.025710138 Accuracy: 0.9767\n",
      "Epoch: 0020 cost= 0.021743245 Accuracy: 0.9787\n",
      "Epoch: 0021 cost= 0.021240008 Accuracy: 0.9783\n",
      "Epoch: 0022 cost= 0.019079534 Accuracy: 0.9781\n",
      "Epoch: 0023 cost= 0.018027857 Accuracy: 0.9768\n",
      "Epoch: 0024 cost= 0.015141224 Accuracy: 0.9788\n",
      "Epoch: 0025 cost= 0.013804607 Accuracy: 0.9777\n",
      "Optimization Finished!\n"
     ]
    }
   ],
   "source": [
    "# Launch the graph\n",
    "with tf.Session() as sess:\n",
    "    sess.run(init)\n",
    "\n",
    "    # Training cycle\n",
    "    for epoch in range(training_epochs):\n",
    "        avg_cost = 0.\n",
    "        total_batch = int(mnist.train.num_examples/batch_size)\n",
    "        # Loop over all batches\n",
    "        for i in range(total_batch):\n",
    "            batch_x, batch_y = mnist.train.next_batch(batch_size)\n",
    "            # Run optimization op (backprop) and cost op (to get loss value)\n",
    "            _, c = sess.run([optimizer, cost], feed_dict={x: batch_x,\n",
    "                                                          y: batch_y,keep_prob:0.5})\n",
    "            # Compute average loss\n",
    "            avg_cost += c / total_batch\n",
    "        # Display logs per epoch step\n",
    "        if epoch % display_step == 0:\n",
    "            print \"Epoch:\", '%04d' % (epoch+1), \"cost=\", \\\n",
    "                \"{:.9f}\".format(avg_cost),\n",
    "            print \"Accuracy:\", accuracy.eval({x: mnist.test.images, y: mnist.test.labels,keep_prob: 1.0})    \n",
    "    print \"Optimization Finished!\"\n"
   ]
  },
  {
   "cell_type": "code",
   "execution_count": null,
   "metadata": {
    "collapsed": true
   },
   "outputs": [],
   "source": []
  },
  {
   "cell_type": "code",
   "execution_count": null,
   "metadata": {
    "collapsed": true
   },
   "outputs": [],
   "source": []
  }
 ],
 "metadata": {
  "kernelspec": {
   "display_name": "Python 2",
   "language": "python",
   "name": "python2"
  },
  "language_info": {
   "codemirror_mode": {
    "name": "ipython",
    "version": 2
   },
   "file_extension": ".py",
   "mimetype": "text/x-python",
   "name": "python",
   "nbconvert_exporter": "python",
   "pygments_lexer": "ipython2",
   "version": "2.7.11+"
  }
 },
 "nbformat": 4,
 "nbformat_minor": 0
}
