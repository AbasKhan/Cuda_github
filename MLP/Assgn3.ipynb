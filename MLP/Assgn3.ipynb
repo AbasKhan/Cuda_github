{
 "cells": [
  {
   "cell_type": "code",
   "execution_count": 1,
   "metadata": {
    "collapsed": true
   },
   "outputs": [],
   "source": [
    "from tensorflow.examples.tutorials.mnist import input_data\n",
    "import tensorflow as tf\n",
    "import numpy as np"
   ]
  },
  {
   "cell_type": "code",
   "execution_count": 2,
   "metadata": {
    "collapsed": false
   },
   "outputs": [
    {
     "name": "stdout",
     "output_type": "stream",
     "text": [
      "Extracting MNIST_data/train-images-idx3-ubyte.gz\n",
      "Extracting MNIST_data/train-labels-idx1-ubyte.gz\n",
      "Extracting MNIST_data/t10k-images-idx3-ubyte.gz\n",
      "Extracting MNIST_data/t10k-labels-idx1-ubyte.gz\n"
     ]
    }
   ],
   "source": [
    "sess = tf.Session()\n",
    "learning_rate = 0.01\n",
    "training_epochs = 25\n",
    "batch_size = 100\n",
    "display_step = 1\n",
    "\n",
    "n_input = 784 \n",
    "n_hidden = 392 \n",
    "n_classes = 10\n",
    "\n",
    "mnist = input_data.read_data_sets(\"MNIST_data/\", one_hot=True)\n",
    "x= tf.placeholder(\"float\",[None,n_input],name='x')\n",
    "y=tf.placeholder(\"float\",[None,n_classes],name='y')\n",
    "\n",
    "stddev = 0.1\n",
    "weights ={'h':tf.Variable(tf.random_normal([n_input,n_hidden],stddev=stddev)),\n",
    "          'out':tf.Variable(tf.random_normal([n_hidden , n_classes],stddev=stddev))}\n",
    "biases = {'b':tf.Variable(tf.random_normal([n_hidden])),'out':tf.Variable(tf.random_normal([n_classes]))}\n",
    "\n",
    "hidden_layer = tf.nn.sigmoid(tf.add(tf.matmul(x,weights['h']),biases['b']))\n",
    "pred = tf.sigmoid(tf.matmul(hidden_layer,weights['out']) + biases['out'])\n",
    "\n",
    "# Define loss and optimizer\n",
    "cost = tf.reduce_mean(tf.nn.softmax_cross_entropy_with_logits(pred, y))\n",
    "optimizer = tf.train.AdamOptimizer(learning_rate=learning_rate).minimize(cost)\n",
    "\n",
    "# Test model\n",
    "correct_prediction = tf.equal(tf.argmax(pred, 1), tf.argmax(y, 1))\n",
    "\n",
    "# Calculate accuracy \n",
    "accuracy = tf.reduce_mean(tf.cast(correct_prediction, tf.float32))\n",
    "\n",
    "init = tf.initialize_all_variables()\n",
    "# sess.run(init)\n"
   ]
  },
  {
   "cell_type": "code",
   "execution_count": 3,
   "metadata": {
    "collapsed": false
   },
   "outputs": [
    {
     "name": "stdout",
     "output_type": "stream",
     "text": [
      "Epoch: 0001 cost= 1.548962181 Accuracy: 0.9501\n",
      "Epoch: 0002 cost= 1.500602254 Accuracy: 0.9624\n",
      "Epoch: 0003 cost= 1.490061712 Accuracy: 0.9688\n",
      "Epoch: 0004 cost= 1.484925413 Accuracy: 0.9714\n",
      "Epoch: 0005 cost= 1.481816702 Accuracy: 0.9708\n",
      "Epoch: 0006 cost= 1.479785394 Accuracy: 0.9701\n",
      "Epoch: 0007 cost= 1.478241737 Accuracy: 0.9699\n",
      "Epoch: 0008 cost= 1.477196157 Accuracy: 0.9744\n",
      "Epoch: 0009 cost= 1.475993116 Accuracy: 0.9752\n",
      "Epoch: 0010 cost= 1.475922533 Accuracy: 0.9759\n",
      "Epoch: 0011 cost= 1.475837792 Accuracy: 0.9765\n",
      "Epoch: 0012 cost= 1.474199659 Accuracy: 0.975\n",
      "Epoch: 0013 cost= 1.473801695 Accuracy: 0.9771\n",
      "Epoch: 0014 cost= 1.473703625 Accuracy: 0.9751\n",
      "Epoch: 0015 cost= 1.473542687 Accuracy: 0.9731\n",
      "Epoch: 0016 cost= 1.472723003 Accuracy: 0.9767\n",
      "Epoch: 0017 cost= 1.472361635 Accuracy: 0.976\n",
      "Epoch: 0018 cost= 1.472517569 Accuracy: 0.9764\n",
      "Epoch: 0019 cost= 1.472487198 Accuracy: 0.9761\n",
      "Epoch: 0020 cost= 1.471692550 Accuracy: 0.9769\n",
      "Epoch: 0021 cost= 1.471533483 Accuracy: 0.976\n",
      "Epoch: 0022 cost= 1.471448561 Accuracy: 0.9762\n",
      "Epoch: 0023 cost= 1.471361803 Accuracy: 0.976\n",
      "Epoch: 0024 cost= 1.471146924 Accuracy: 0.9769\n",
      "Epoch: 0025 cost= 1.471340109 Accuracy: 0.9773\n",
      "Optimization Finished!\n"
     ]
    }
   ],
   "source": [
    "# Launch the graph\n",
    "with tf.Session() as sess:\n",
    "    sess.run(init)\n",
    "\n",
    "    # Training cycle\n",
    "    for epoch in range(training_epochs):\n",
    "        avg_cost = 0.\n",
    "        total_batch = int(mnist.train.num_examples/batch_size)\n",
    "        # Loop over all batches\n",
    "        for i in range(total_batch):\n",
    "            batch_x, batch_y = mnist.train.next_batch(batch_size)\n",
    "            # Run optimization op (backprop) and cost op (to get loss value)\n",
    "            _, c = sess.run([optimizer, cost], feed_dict={x: batch_x,\n",
    "                                                          y: batch_y})\n",
    "            # Compute average loss\n",
    "            avg_cost += c / total_batch\n",
    "        # Display logs per epoch step\n",
    "        if epoch % display_step == 0:\n",
    "            print \"Epoch:\", '%04d' % (epoch+1), \"cost=\", \\\n",
    "                \"{:.9f}\".format(avg_cost),\n",
    "            print \"Accuracy:\", accuracy.eval({x: mnist.test.images, y: mnist.test.labels})    \n",
    "    print \"Optimization Finished!\"\n",
    "  "
   ]
  },
  {
   "cell_type": "code",
   "execution_count": null,
   "metadata": {
    "collapsed": true
   },
   "outputs": [],
   "source": []
  }
 ],
 "metadata": {
  "kernelspec": {
   "display_name": "Python 2",
   "language": "python",
   "name": "python2"
  },
  "language_info": {
   "codemirror_mode": {
    "name": "ipython",
    "version": 2
   },
   "file_extension": ".py",
   "mimetype": "text/x-python",
   "name": "python",
   "nbconvert_exporter": "python",
   "pygments_lexer": "ipython2",
   "version": "2.7.11+"
  }
 },
 "nbformat": 4,
 "nbformat_minor": 0
}
