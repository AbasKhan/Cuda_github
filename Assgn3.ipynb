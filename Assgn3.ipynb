{
 "cells": [
  {
   "cell_type": "code",
   "execution_count": 31,
   "metadata": {
    "collapsed": true
   },
   "outputs": [],
   "source": [
    "from tensorflow.examples.tutorials.mnist import input_data\n",
    "import tensorflow as tf\n",
    "import numpy as np"
   ]
  },
  {
   "cell_type": "code",
   "execution_count": 32,
   "metadata": {
    "collapsed": false
   },
   "outputs": [
    {
     "name": "stdout",
     "output_type": "stream",
     "text": [
      "Extracting MNIST_data/train-images-idx3-ubyte.gz\n",
      "Extracting MNIST_data/train-labels-idx1-ubyte.gz\n",
      "Extracting MNIST_data/t10k-images-idx3-ubyte.gz\n",
      "Extracting MNIST_data/t10k-labels-idx1-ubyte.gz\n"
     ]
    }
   ],
   "source": [
    "sess = tf.Session()\n",
    "learning_rate = 0.01\n",
    "training_epochs = 25\n",
    "batch_size = 100\n",
    "display_step = 1\n",
    "\n",
    "n_input = 784 \n",
    "n_hidden = 392 \n",
    "n_classes = 10\n",
    "\n",
    "mnist = input_data.read_data_sets(\"MNIST_data/\", one_hot=True)\n",
    "x= tf.placeholder(\"float\",[None,n_input],name='x')\n",
    "y=tf.placeholder(\"float\",[None,n_classes],name='y')\n",
    "\n",
    "stddev = 0.1\n",
    "weights ={'h':tf.Variable(tf.random_normal([n_input,n_hidden],stddev=stddev)),\n",
    "          'out':tf.Variable(tf.random_normal([n_hidden , n_classes],stddev=stddev))}\n",
    "biases = {'b':tf.Variable(tf.random_normal([n_hidden])),'out':tf.Variable(tf.random_normal([n_classes]))}\n",
    "\n",
    "hidden_layer = tf.nn.sigmoid(tf.add(tf.matmul(x,weights['h']),biases['b']))\n",
    "# Construct model\n",
    "pred = tf.sigmoid(tf.matmul(hidden_layer,weights['out']) + biases['out'])\n",
    "\n",
    "# Define loss and optimizer\n",
    "cost = tf.reduce_mean(tf.nn.softmax_cross_entropy_with_logits(pred, y))\n",
    "optimizer = tf.train.AdamOptimizer(learning_rate=learning_rate).minimize(cost)\n",
    "\n",
    "# Test model\n",
    "correct_prediction = tf.equal(tf.argmax(pred, 1), tf.argmax(y, 1))\n",
    "\n",
    "# Calculate accuracy \n",
    "accuracy = tf.reduce_mean(tf.cast(correct_prediction, tf.float32))\n",
    "\n",
    "init = tf.initialize_all_variables()\n",
    "# sess.run(init)\n"
   ]
  },
  {
   "cell_type": "code",
   "execution_count": 33,
   "metadata": {
    "collapsed": false
   },
   "outputs": [
    {
     "name": "stdout",
     "output_type": "stream",
     "text": [
      "Epoch: 0001 cost= 1.550312630 Accuracy: 0.9481\n",
      "Epoch: 0002 cost= 1.501249397 Accuracy: 0.9651\n",
      "Epoch: 0003 cost= 1.490067701 Accuracy: 0.9677\n",
      "Epoch: 0004 cost= 1.484325164 Accuracy: 0.9703\n",
      "Epoch: 0005 cost= 1.481443190 Accuracy: 0.9709\n",
      "Epoch: 0006 cost= 1.479314680 Accuracy: 0.9699\n",
      "Epoch: 0007 cost= 1.477641535 Accuracy: 0.9742\n",
      "Epoch: 0008 cost= 1.476392550 Accuracy: 0.9724\n",
      "Epoch: 0009 cost= 1.475923924 Accuracy: 0.9751\n",
      "Epoch: 0010 cost= 1.475399438 Accuracy: 0.9758\n",
      "Epoch: 0011 cost= 1.475145809 Accuracy: 0.9735\n",
      "Epoch: 0012 cost= 1.473978163 Accuracy: 0.9749\n",
      "Epoch: 0013 cost= 1.473925152 Accuracy: 0.9772\n",
      "Epoch: 0014 cost= 1.472850275 Accuracy: 0.9769\n",
      "Epoch: 0015 cost= 1.473047659 Accuracy: 0.9772\n",
      "Epoch: 0016 cost= 1.472007289 Accuracy: 0.9768\n",
      "Epoch: 0017 cost= 1.472999410 Accuracy: 0.9743\n",
      "Epoch: 0018 cost= 1.471436332 Accuracy: 0.9769\n",
      "Epoch: 0019 cost= 1.471587053 Accuracy: 0.9771\n",
      "Epoch: 0020 cost= 1.471555411 Accuracy: 0.9755\n",
      "Epoch: 0021 cost= 1.471820368 Accuracy: 0.9764\n",
      "Epoch: 0022 cost= 1.471377480 Accuracy: 0.977\n",
      "Epoch: 0023 cost= 1.470622079 Accuracy: 0.9754\n",
      "Epoch: 0024 cost= 1.471072418 Accuracy: 0.9767\n",
      "Epoch: 0025 cost= 1.471160288 Accuracy: 0.9769\n",
      "Optimization Finished!\n"
     ]
    }
   ],
   "source": [
    "# Launch the graph\n",
    "with tf.Session() as sess:\n",
    "    sess.run(init)\n",
    "\n",
    "    # Training cycle\n",
    "    for epoch in range(training_epochs):\n",
    "        avg_cost = 0.\n",
    "        total_batch = int(mnist.train.num_examples/batch_size)\n",
    "        # Loop over all batches\n",
    "        for i in range(total_batch):\n",
    "            batch_x, batch_y = mnist.train.next_batch(batch_size)\n",
    "            # Run optimization op (backprop) and cost op (to get loss value)\n",
    "            _, c = sess.run([optimizer, cost], feed_dict={x: batch_x,\n",
    "                                                          y: batch_y})\n",
    "            # Compute average loss\n",
    "            avg_cost += c / total_batch\n",
    "        # Display logs per epoch step\n",
    "        if epoch % display_step == 0:\n",
    "            print \"Epoch:\", '%04d' % (epoch+1), \"cost=\", \\\n",
    "                \"{:.9f}\".format(avg_cost),\n",
    "            print \"Accuracy:\", accuracy.eval({x: mnist.test.images, y: mnist.test.labels})    \n",
    "    print \"Optimization Finished!\"\n",
    "  "
   ]
  },
  {
   "cell_type": "code",
   "execution_count": null,
   "metadata": {
    "collapsed": true
   },
   "outputs": [],
   "source": []
  }
 ],
 "metadata": {
  "kernelspec": {
   "display_name": "Python 2",
   "language": "python",
   "name": "python2"
  },
  "language_info": {
   "codemirror_mode": {
    "name": "ipython",
    "version": 2
   },
   "file_extension": ".py",
   "mimetype": "text/x-python",
   "name": "python",
   "nbconvert_exporter": "python",
   "pygments_lexer": "ipython2",
   "version": "2.7.11+"
  }
 },
 "nbformat": 4,
 "nbformat_minor": 0
}
